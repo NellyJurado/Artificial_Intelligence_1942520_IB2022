{
  "nbformat": 4,
  "nbformat_minor": 0,
  "metadata": {
    "colab": {
      "provenance": [],
      "collapsed_sections": [],
      "authorship_tag": "ABX9TyO1kGRE/yTlufMymZww5uYK",
      "include_colab_link": true
    },
    "kernelspec": {
      "name": "python3",
      "display_name": "Python 3"
    },
    "language_info": {
      "name": "python"
    }
  },
  "cells": [
    {
      "cell_type": "markdown",
      "metadata": {
        "id": "view-in-github",
        "colab_type": "text"
      },
      "source": [
        "<a href=\"https://colab.research.google.com/github/NellyJurado/Artificial_Intelligence_1942520_IB2022/blob/main/AI_Assignment2_NellyJurado_1942520.ipynb\" target=\"_parent\"><img src=\"https://colab.research.google.com/assets/colab-badge.svg\" alt=\"Open In Colab\"/></a>"
      ]
    },
    {
      "cell_type": "code",
      "execution_count": null,
      "metadata": {
        "id": "6-OQIow63BdX"
      },
      "outputs": [],
      "source": []
    },
    {
      "cell_type": "markdown",
      "source": [
        "***A2: Python Exercises. ***\n",
        "\n",
        "**Nelly Jaqueline Jurado Rodríguez, 1942520**\n",
        "\n",
        "**Artificial intelligence   Jueves   N4**\n",
        "\n"
      ],
      "metadata": {
        "id": "6TTEnTna7BUR"
      }
    },
    {
      "cell_type": "markdown",
      "source": [
        "\n",
        "\n",
        "# *   Instructions\n",
        "\n",
        "The following exercises must be done on a Google Colab notebook. Final version will be uploaded to your Github repository.\n",
        "\n",
        "\n",
        "\n",
        "\n",
        "\n",
        "\n"
      ],
      "metadata": {
        "id": "lKgPYAGgwyGX"
      }
    },
    {
      "cell_type": "markdown",
      "source": [
        "*1.- Create a python script where the user is going to be asked for the name. After that, the program will greet the user with the given name. Only exception: the script will not greet the user if the given name is \"Ana\", \"John\" or \"Peter\".*"
      ],
      "metadata": {
        "id": "Pc7OA9hjvbKx"
      }
    },
    {
      "cell_type": "code",
      "source": [
        "# Answer 1.-\n",
        "\n",
        "name = input(\"What's your name? \")\n",
        "if name in[\"Ana\", \"John\", \"Peter\"]:\n",
        "  print(\" The name you entered is not valid :( Please try again!\")\n",
        "\n",
        "else :\n",
        "  print(\" Hi \" + name + \"!  I hope you are having a great day :)\")"
      ],
      "metadata": {
        "colab": {
          "base_uri": "https://localhost:8080/"
        },
        "id": "tIscjfB_7E3g",
        "outputId": "561fe038-8518-4f89-8102-7edf06fab00f"
      },
      "execution_count": null,
      "outputs": [
        {
          "output_type": "stream",
          "name": "stdout",
          "text": [
            "What's your name? Nelly\n",
            " Hi Nelly!  I hope you are having a great day :)\n"
          ]
        }
      ]
    },
    {
      "cell_type": "markdown",
      "source": [
        "*2.- Create a function in a pyhton script that returns (print) the last element of a given list, reverts the order of the list and finally returns (print) the reverted list.* "
      ],
      "metadata": {
        "id": "kb9xvpfmvcnr"
      }
    },
    {
      "cell_type": "code",
      "source": [
        "# Answer 2.-\n",
        "\n",
        "print('\\033[1m'+\"Little animals:\\n\"+'\\033[0m')\n",
        "list=[\"Puppy\",\"Kitten\",\"Dragon\",\"Duckling\",\"Unicorn\"]\n",
        "print(list)\n",
        "\n",
        "\n",
        "\n",
        "print('\\033[1m'+\"\\n Last little animal: \\n\"+'\\033[0m')\n",
        "print(list[-1])\n",
        "\n",
        "list.reverse() \n",
        "print('\\033[1m'+\"\\n Upside down little animals: \\n\"+'\\033[0m')\n",
        "print(list) "
      ],
      "metadata": {
        "colab": {
          "base_uri": "https://localhost:8080/"
        },
        "id": "R1ntQWG67VyK",
        "outputId": "835a09a7-598a-4968-f9e6-62d87ddd20a9"
      },
      "execution_count": null,
      "outputs": [
        {
          "output_type": "stream",
          "name": "stdout",
          "text": [
            "\u001b[1mLittle animals:\n",
            "\u001b[0m\n",
            "['Puppy', 'Kitten', 'Dragon', 'Duckling', 'Unicorn']\n",
            "\u001b[1m\n",
            " Last little animal: \n",
            "\u001b[0m\n",
            "Unicorn\n",
            "\u001b[1m\n",
            " Upside down little animals: \n",
            "\u001b[0m\n",
            "['Unicorn', 'Duckling', 'Dragon', 'Kitten', 'Puppy']\n"
          ]
        }
      ]
    },
    {
      "cell_type": "markdown",
      "source": [
        "*3.- Create a function in a python script that takes a list of strings as input and then it prints, line by line, the whole list in a rectangular shape.*"
      ],
      "metadata": {
        "id": "w8KPYlUSvd1P"
      }
    },
    {
      "cell_type": "code",
      "source": [
        "# Answer 3.-\n",
        "\n",
        "def Good_vibes_in_a_rectangle(words):\n",
        "    size = max(len(word) for word in words)\n",
        "    print(\"*\"*(size+4))\n",
        "\n",
        "    for i in words:\n",
        "        print(\"*\"+\" \"+i+\" \"*((size+4)-len(i)-3)+\"*\")\n",
        "\n",
        "    print(\"*\"*(size+4))\n",
        "\n",
        "Good_vibes_in_a_rectangle([\"Don't\",\"worry\",\"Be\",\"Happy\"])\n",
        "\n"
      ],
      "metadata": {
        "colab": {
          "base_uri": "https://localhost:8080/"
        },
        "id": "PfE4nAibZjUW",
        "outputId": "66b85d41-f4d4-4fcf-9063-96c081ae87ed"
      },
      "execution_count": null,
      "outputs": [
        {
          "output_type": "stream",
          "name": "stdout",
          "text": [
            "*********\n",
            "* Don't *\n",
            "* worry *\n",
            "* Be    *\n",
            "* Happy *\n",
            "*********\n"
          ]
        }
      ]
    }
  ]
}
